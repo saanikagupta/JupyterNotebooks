{
 "cells": [
  {
   "cell_type": "code",
   "execution_count": 2,
   "metadata": {
    "collapsed": true
   },
   "outputs": [],
   "source": [
    "import numpy as np\n",
    "x = np.array([1,2,3], np.int16) # signed 16 bit integer"
   ]
  },
  {
   "cell_type": "code",
   "execution_count": 3,
   "metadata": {
    "collapsed": false,
    "scrolled": true
   },
   "outputs": [
    {
     "name": "stdout",
     "output_type": "stream",
     "text": [
      "[1 2 3]\n",
      "<class 'numpy.ndarray'>\n"
     ]
    }
   ],
   "source": [
    "print(x)\n",
    "print(type(x))"
   ]
  },
  {
   "cell_type": "code",
   "execution_count": 5,
   "metadata": {
    "collapsed": false
   },
   "outputs": [
    {
     "name": "stdout",
     "output_type": "stream",
     "text": [
      "1\n",
      "2\n",
      "3\n",
      "3\n"
     ]
    }
   ],
   "source": [
    "print(x[0]);\n",
    "print(x[1]);\n",
    "print(x[2]);\n",
    "print(x[-1]); # last element"
   ]
  },
  {
   "cell_type": "code",
   "execution_count": 6,
   "metadata": {
    "collapsed": false
   },
   "outputs": [
    {
     "name": "stdout",
     "output_type": "stream",
     "text": [
      "[[1 2 3]\n",
      " [4 5 6]]\n"
     ]
    }
   ],
   "source": [
    "x = np.array([[1, 2, 3], [4, 5, 6]], np.int16)\n",
    "print(x)"
   ]
  },
  {
   "cell_type": "code",
   "execution_count": 8,
   "metadata": {
    "collapsed": false
   },
   "outputs": [
    {
     "name": "stdout",
     "output_type": "stream",
     "text": [
      "1\n",
      "6\n"
     ]
    }
   ],
   "source": [
    "print(x[0, 0]);\n",
    "print(x[-1, -1]);"
   ]
  },
  {
   "cell_type": "code",
   "execution_count": 12,
   "metadata": {
    "collapsed": false
   },
   "outputs": [
    {
     "name": "stdout",
     "output_type": "stream",
     "text": [
      "[1 4]\n",
      "[2 5]\n",
      "[3 6]\n",
      "[1 2 3]\n",
      "[4 5 6]\n"
     ]
    }
   ],
   "source": [
    "# Slicing\n",
    "print(x[:, 0]) # column 1\n",
    "print(x[:, 1]) # column 2\n",
    "print(x[:, 2]) # column 3\n",
    "print(x[0, :]) # row 1\n",
    "print(x[1, :]) # row 2"
   ]
  },
  {
   "cell_type": "code",
   "execution_count": 17,
   "metadata": {
    "collapsed": false
   },
   "outputs": [
    {
     "name": "stdout",
     "output_type": "stream",
     "text": [
      "[[[ 1  2  3]\n",
      "  [ 4  5  6]]\n",
      "\n",
      " [[ 0 -1 -2]\n",
      "  [-3 -4 -5]]]\n"
     ]
    }
   ],
   "source": [
    "# 3-dimensional Ndarray\n",
    "x = np.array([[[1, 2, 3],[4, 5, 6]],[[0, -1, -2],[-3, -4, -5]]], np.int16)\n",
    "print(x)"
   ]
  },
  {
   "cell_type": "code",
   "execution_count": 21,
   "metadata": {
    "collapsed": false
   },
   "outputs": [
    {
     "name": "stdout",
     "output_type": "stream",
     "text": [
      "1\n",
      "-5\n",
      "[[ 1  4]\n",
      " [ 0 -3]]\n",
      "[[ 2  5]\n",
      " [-1 -4]]\n"
     ]
    }
   ],
   "source": [
    "print(x[0, 0, 0])\n",
    "print(x[-1, -1, -1])\n",
    "print(x[: ,:, 0]) # prints 1st column\n",
    "print(x[:, :, 1]) # prints 2nd column"
   ]
  },
  {
   "cell_type": "markdown",
   "metadata": {},
   "source": [
    "# NumPy Ndarray Properties"
   ]
  },
  {
   "cell_type": "code",
   "execution_count": 26,
   "metadata": {
    "collapsed": false
   },
   "outputs": [
    {
     "name": "stdout",
     "output_type": "stream",
     "text": [
      "(2, 2, 3)\n",
      "3\n",
      "int16\n",
      "12\n",
      "24\n"
     ]
    }
   ],
   "source": [
    "print(x.shape) # 3-dimensional data structure\n",
    "print(x.ndim) # number of dimensions\n",
    "print(x.dtype) # data type of all the individual elements\n",
    "print(x.size) # 12 elements\n",
    "print(x.nbytes) # 12*2 = 24 bytes (16 bits = 2 bytes)"
   ]
  },
  {
   "cell_type": "code",
   "execution_count": 27,
   "metadata": {
    "collapsed": false
   },
   "outputs": [
    {
     "name": "stdout",
     "output_type": "stream",
     "text": [
      "[[[ 1  0]\n",
      "  [ 4 -3]]\n",
      "\n",
      " [[ 2 -1]\n",
      "  [ 5 -4]]\n",
      "\n",
      " [[ 3 -2]\n",
      "  [ 6 -5]]]\n"
     ]
    }
   ],
   "source": [
    "print(x.T) # transpose"
   ]
  },
  {
   "cell_type": "markdown",
   "metadata": {},
   "source": [
    "# NumPy Constants"
   ]
  },
  {
   "cell_type": "code",
   "execution_count": 30,
   "metadata": {
    "collapsed": false
   },
   "outputs": [
    {
     "name": "stdout",
     "output_type": "stream",
     "text": [
      "inf\n",
      "nan\n",
      "-inf\n",
      "-0.0\n",
      "0.0\n",
      "2.718281828459045\n",
      "0.5772156649015329\n",
      "3.141592653589793\n"
     ]
    }
   ],
   "source": [
    "print(np.inf) # positive infinity\n",
    "print(np.NAN) # not a number\n",
    "print(np.NINF) # negative infinity\n",
    "print(np.NZERO) # positive zero\n",
    "print(np.PZERO) # negative zero\n",
    "print(np.e) # mathematical constant\n",
    "print(np.euler_gamma)\n",
    "print(np.pi)"
   ]
  },
  {
   "cell_type": "markdown",
   "metadata": {},
   "source": [
    "# Ones and Zeros"
   ]
  },
  {
   "cell_type": "code",
   "execution_count": 33,
   "metadata": {
    "collapsed": false
   },
   "outputs": [
    {
     "name": "stdout",
     "output_type": "stream",
     "text": [
      "[[ 48 255  90]\n",
      " [ 65 188   2]\n",
      " [  0   0  48]]\n"
     ]
    }
   ],
   "source": [
    "x = np.empty([3, 3], np.uint8) # unsigned 8 bit integer\n",
    "print(x) # 3x3 matrix with random values"
   ]
  },
  {
   "cell_type": "code",
   "execution_count": 37,
   "metadata": {
    "collapsed": false
   },
   "outputs": [
    {
     "name": "stdout",
     "output_type": "stream",
     "text": [
      "[[1 0 0 0 0]\n",
      " [0 1 0 0 0]\n",
      " [0 0 1 0 0]\n",
      " [0 0 0 1 0]\n",
      " [0 0 0 0 1]]\n"
     ]
    }
   ],
   "source": [
    "# 1's in diagonal and 0's elsewhere\n",
    "y = np.eye(5, dtype = np.uint8, k=0) # k decides the position of diagonal\n",
    "print(y)"
   ]
  },
  {
   "cell_type": "code",
   "execution_count": 40,
   "metadata": {
    "collapsed": false
   },
   "outputs": [
    {
     "name": "stdout",
     "output_type": "stream",
     "text": [
      "[[1 0 0 0 0]\n",
      " [0 1 0 0 0]\n",
      " [0 0 1 0 0]\n",
      " [0 0 0 1 0]\n",
      " [0 0 0 0 1]]\n"
     ]
    }
   ],
   "source": [
    "# Identity matrix\n",
    "x = np.identity(5, dtype = np.uint8)\n",
    "print(x)"
   ]
  },
  {
   "cell_type": "code",
   "execution_count": 42,
   "metadata": {
    "collapsed": false
   },
   "outputs": [
    {
     "name": "stdout",
     "output_type": "stream",
     "text": [
      "[[[1 1 1 1 1]\n",
      "  [1 1 1 1 1]\n",
      "  [1 1 1 1 1]\n",
      "  [1 1 1 1 1]\n",
      "  [1 1 1 1 1]]\n",
      "\n",
      " [[1 1 1 1 1]\n",
      "  [1 1 1 1 1]\n",
      "  [1 1 1 1 1]\n",
      "  [1 1 1 1 1]\n",
      "  [1 1 1 1 1]]]\n"
     ]
    }
   ],
   "source": [
    "x = np.ones((2, 5, 5), dtype = np.int16)\n",
    "print(x)"
   ]
  },
  {
   "cell_type": "code",
   "execution_count": 43,
   "metadata": {
    "collapsed": false
   },
   "outputs": [
    {
     "name": "stdout",
     "output_type": "stream",
     "text": [
      "[[[0 0 0 0 0]\n",
      "  [0 0 0 0 0]\n",
      "  [0 0 0 0 0]\n",
      "  [0 0 0 0 0]\n",
      "  [0 0 0 0 0]]\n",
      "\n",
      " [[0 0 0 0 0]\n",
      "  [0 0 0 0 0]\n",
      "  [0 0 0 0 0]\n",
      "  [0 0 0 0 0]\n",
      "  [0 0 0 0 0]]]\n"
     ]
    }
   ],
   "source": [
    "x = np.zeros((2, 5, 5), dtype = np.int16)\n",
    "print(x)"
   ]
  },
  {
   "cell_type": "code",
   "execution_count": 48,
   "metadata": {
    "collapsed": false
   },
   "outputs": [
    {
     "name": "stdout",
     "output_type": "stream",
     "text": [
      "[[[4 4 4]\n",
      "  [4 4 4]\n",
      "  [4 4 4]]\n",
      "\n",
      " [[4 4 4]\n",
      "  [4 4 4]\n",
      "  [4 4 4]]\n",
      "\n",
      " [[4 4 4]\n",
      "  [4 4 4]\n",
      "  [4 4 4]]]\n"
     ]
    }
   ],
   "source": [
    "# An Ndarray with all elements = 4\n",
    "x = np.full((3, 3, 3), dtype = np.int16, fill_value = 4)\n",
    "print(x)"
   ]
  },
  {
   "cell_type": "markdown",
   "metadata": {},
   "source": [
    "   # Matrix creation routines"
   ]
  },
  {
   "cell_type": "code",
   "execution_count": 50,
   "metadata": {
    "collapsed": false
   },
   "outputs": [
    {
     "name": "stdout",
     "output_type": "stream",
     "text": [
      "[[1 0 0 0 0]\n",
      " [1 1 0 0 0]\n",
      " [1 1 1 0 0]\n",
      " [1 1 1 1 0]\n",
      " [1 1 1 1 1]]\n"
     ]
    }
   ],
   "source": [
    "# An array with ones at and below the given diagonal and zeros elsewhere\n",
    "x = np.tri(5, 5, k=0, dtype = np.uint16) # k decides the position of diagonal\n",
    "print(x)"
   ]
  },
  {
   "cell_type": "code",
   "execution_count": 56,
   "metadata": {
    "collapsed": false
   },
   "outputs": [
    {
     "name": "stdout",
     "output_type": "stream",
     "text": [
      "[[1 1 1 1 1]\n",
      " [1 1 1 1 1]\n",
      " [1 1 1 1 1]\n",
      " [1 1 1 1 1]\n",
      " [1 1 1 1 1]]\n",
      "[[0 0 0 0 0]\n",
      " [1 0 0 0 0]\n",
      " [1 1 0 0 0]\n",
      " [1 1 1 0 0]\n",
      " [1 1 1 1 0]]\n",
      "[[1 1 1 1 1]\n",
      " [1 1 1 1 1]\n",
      " [0 1 1 1 1]\n",
      " [0 0 1 1 1]\n",
      " [0 0 0 1 1]]\n"
     ]
    }
   ],
   "source": [
    "x = np.ones((5,5), dtype = np.uint8)\n",
    "print(x)\n",
    "y = np.tril(x, k = -1) # lower triangular\n",
    "print(y)\n",
    "z = np.triu(x, k = -1) # upper triangular\n",
    "print(z)"
   ]
  },
  {
   "cell_type": "markdown",
   "metadata": {},
   "source": [
    "# Generating Ndarrays with Random values"
   ]
  },
  {
   "cell_type": "code",
   "execution_count": 62,
   "metadata": {
    "collapsed": false
   },
   "outputs": [
    {
     "name": "stdout",
     "output_type": "stream",
     "text": [
      "[3 1 6 8 8 6 3 4 8 8]\n",
      "[[ 0.45077861  0.21873748  0.69434719]\n",
      " [ 0.54198292  0.63762532  0.33481276]\n",
      " [ 0.24788689  0.46260629  0.12736025]]\n",
      "[[[[[ 0.89526797  0.90755097]\n",
      "    [ 0.70374728  0.93365549]]\n",
      "\n",
      "   [[ 0.53797336  0.91621877]\n",
      "    [ 0.43715583  0.72205062]]]\n",
      "\n",
      "\n",
      "  [[[ 0.41262713  0.44696716]\n",
      "    [ 0.16522338  0.17473343]]\n",
      "\n",
      "   [[ 0.36023849  0.95184136]\n",
      "    [ 0.27656488  0.08654361]]]]\n",
      "\n",
      "\n",
      "\n",
      " [[[[ 0.57652475  0.85177763]\n",
      "    [ 0.85737021  0.23093653]]\n",
      "\n",
      "   [[ 0.8088866   0.69382727]\n",
      "    [ 0.17663422  0.74221186]]]\n",
      "\n",
      "\n",
      "  [[[ 0.56674506  0.40397094]\n",
      "    [ 0.2893048   0.21294813]]\n",
      "\n",
      "   [[ 0.71702791  0.21540947]\n",
      "    [ 0.87361464  0.06957232]]]]]\n"
     ]
    }
   ],
   "source": [
    "# Single dimension array with random elements (integers)\n",
    "x = np.random.randint(low = 0, high = 9, size = 10)\n",
    "print(x)\n",
    "# Random array of size 2x2\n",
    "x = np.random.rand(3, 3)\n",
    "print(x)\n",
    "x = np.random.rand(2,2,2,2,2)\n",
    "print(x)"
   ]
  },
  {
   "cell_type": "markdown",
   "metadata": {},
   "source": [
    "# Array Manipulation Routines"
   ]
  },
  {
   "cell_type": "code",
   "execution_count": 67,
   "metadata": {
    "collapsed": false
   },
   "outputs": [
    {
     "name": "stdout",
     "output_type": "stream",
     "text": [
      "[0 1 2 3 4 5]\n",
      "[[0 1]\n",
      " [2 3]\n",
      " [4 5]]\n"
     ]
    }
   ],
   "source": [
    "x = np.arange(6)\n",
    "print(x)\n",
    "y = x.reshape((3, 2)) # reshaped into 3x2 matrix\n",
    "print(y)"
   ]
  },
  {
   "cell_type": "code",
   "execution_count": 68,
   "metadata": {
    "collapsed": false
   },
   "outputs": [
    {
     "name": "stdout",
     "output_type": "stream",
     "text": [
      "[[0 1 2]\n",
      " [3 4 5]]\n"
     ]
    }
   ],
   "source": [
    "x = np.array([[0, 1, 2],[3, 4, 5]], dtype = np.uint8)\n",
    "print(x)"
   ]
  },
  {
   "cell_type": "code",
   "execution_count": 70,
   "metadata": {
    "collapsed": false
   },
   "outputs": [
    {
     "name": "stdout",
     "output_type": "stream",
     "text": [
      "[0 1 2 3 4 5]\n"
     ]
    }
   ],
   "source": [
    "y = np.reshape(x,6) # value of x will be kept intact\n",
    "print(y)"
   ]
  },
  {
   "cell_type": "code",
   "execution_count": 79,
   "metadata": {
    "collapsed": false
   },
   "outputs": [
    {
     "name": "stdout",
     "output_type": "stream",
     "text": [
      "[0 1 2 3 4 5]\n",
      "[0 1 2 3 4 5]\n",
      "[0 3 1 4 2 5]\n"
     ]
    }
   ],
   "source": [
    "y = np.ravel(x) # flattens the matrix\n",
    "print(y)\n",
    "y = x.flatten('C') # row order by default\n",
    "print(y)\n",
    "y = x.flatten('F') # column order\n",
    "print(y)\n",
    "# ravel is faster as it doesn't occupy memory"
   ]
  },
  {
   "cell_type": "code",
   "execution_count": 4,
   "metadata": {
    "collapsed": false
   },
   "outputs": [
    {
     "name": "stdout",
     "output_type": "stream",
     "text": [
      "uint8\n",
      "[1 2 3]\n",
      "[4 5 6]\n"
     ]
    }
   ],
   "source": [
    "x = np.array([1, 2, 3], dtype = np.uint8)\n",
    "y = np.array([4, 5, 6], dtype = np.uint8)\n",
    "print(x.dtype)\n",
    "print(x)\n",
    "print(y)"
   ]
  },
  {
   "cell_type": "code",
   "execution_count": 91,
   "metadata": {
    "collapsed": false
   },
   "outputs": [
    {
     "name": "stdout",
     "output_type": "stream",
     "text": [
      "[[1 2 3]\n",
      " [4 5 6]]\n",
      "[[1 2 3]\n",
      " [4 5 6]]\n",
      "[[1 4]\n",
      " [2 5]\n",
      " [3 6]]\n"
     ]
    }
   ],
   "source": [
    "z = np.stack((x, y))\n",
    "print(z)\n",
    "z = np.stack((x, y), axis = 0) # stacking along a different axis\n",
    "print(z)\n",
    "z = np.stack((x, y), axis = 1)\n",
    "print(z)"
   ]
  },
  {
   "cell_type": "code",
   "execution_count": 97,
   "metadata": {
    "collapsed": false
   },
   "outputs": [
    {
     "name": "stdout",
     "output_type": "stream",
     "text": [
      "[[[1 4]\n",
      "  [2 5]\n",
      "  [3 6]]]\n",
      "(1, 3, 2)\n"
     ]
    }
   ],
   "source": [
    "z = np.dstack((x, y)) # stack arrays in depth wise sequence\n",
    "print(z)\n",
    "print(z.shape)"
   ]
  },
  {
   "cell_type": "code",
   "execution_count": 98,
   "metadata": {
    "collapsed": false
   },
   "outputs": [
    {
     "name": "stdout",
     "output_type": "stream",
     "text": [
      "[1 2 3 4 5 6]\n",
      "(6,)\n"
     ]
    }
   ],
   "source": [
    "z = np.hstack((x, y)) # horizontal stacking\n",
    "print(z)\n",
    "print(z.shape)"
   ]
  },
  {
   "cell_type": "code",
   "execution_count": 6,
   "metadata": {
    "collapsed": false
   },
   "outputs": [
    {
     "name": "stdout",
     "output_type": "stream",
     "text": [
      "[[1 2 3]\n",
      " [4 5 6]]\n",
      "(2, 3)\n"
     ]
    }
   ],
   "source": [
    "z = np.vstack((x, y)) # vertical stacking\n",
    "print(z)\n",
    "print(z.shape)"
   ]
  },
  {
   "cell_type": "code",
   "execution_count": 7,
   "metadata": {
    "collapsed": false,
    "scrolled": true
   },
   "outputs": [
    {
     "name": "stdout",
     "output_type": "stream",
     "text": [
      "[0 1 2 3 4 5 6 7 8]\n"
     ]
    }
   ],
   "source": [
    "x = np.arange(9)\n",
    "print(x)"
   ]
  },
  {
   "cell_type": "code",
   "execution_count": 8,
   "metadata": {
    "collapsed": false
   },
   "outputs": [
    {
     "name": "stdout",
     "output_type": "stream",
     "text": [
      "[0 1 2] [3 4 5] [6 7 8]\n"
     ]
    }
   ],
   "source": [
    "a, b, c = np.split(x, 3)\n",
    "print(a, b, c)"
   ]
  },
  {
   "cell_type": "code",
   "execution_count": 11,
   "metadata": {
    "collapsed": false
   },
   "outputs": [
    {
     "name": "stdout",
     "output_type": "stream",
     "text": [
      "[[[ 0.45056123  0.27328413  0.26155626  0.71535627]\n",
      "  [ 0.02211023  0.8360523   0.57831298  0.43970943]\n",
      "  [ 0.51344543  0.11859003  0.71967118  0.76341423]\n",
      "  [ 0.21691585  0.7806976   0.73034354  0.89090707]]\n",
      "\n",
      " [[ 0.49892813  0.17903786  0.37161755  0.24641424]\n",
      "  [ 0.38941192  0.27865497  0.22848607  0.17224166]\n",
      "  [ 0.4671229   0.7071495   0.6155286   0.94442969]\n",
      "  [ 0.62296216  0.37089692  0.81264073  0.21967369]]] [[[ 0.74401234  0.89655379  0.50912923  0.46278616]\n",
      "  [ 0.59446503  0.07414203  0.10507664  0.85546162]\n",
      "  [ 0.99174945  0.3686375   0.70621608  0.03773458]\n",
      "  [ 0.76034494  0.11401412  0.20273432  0.48190107]]\n",
      "\n",
      " [[ 0.97572558  0.30203548  0.09087594  0.53261055]\n",
      "  [ 0.7110977   0.70667494  0.36386561  0.30355158]\n",
      "  [ 0.38756768  0.15186012  0.83481702  0.18159759]\n",
      "  [ 0.52875512  0.80053579  0.28009549  0.63520221]]]\n"
     ]
    }
   ],
   "source": [
    "x = np.random.rand(4, 4, 4)\n",
    "y, z = np.split(x, 2)\n",
    "print(y, z)"
   ]
  },
  {
   "cell_type": "code",
   "execution_count": 13,
   "metadata": {
    "collapsed": false
   },
   "outputs": [
    {
     "name": "stdout",
     "output_type": "stream",
     "text": [
      "[[[ 0.45056123  0.27328413]\n",
      "  [ 0.02211023  0.8360523 ]\n",
      "  [ 0.51344543  0.11859003]\n",
      "  [ 0.21691585  0.7806976 ]]\n",
      "\n",
      " [[ 0.49892813  0.17903786]\n",
      "  [ 0.38941192  0.27865497]\n",
      "  [ 0.4671229   0.7071495 ]\n",
      "  [ 0.62296216  0.37089692]]\n",
      "\n",
      " [[ 0.74401234  0.89655379]\n",
      "  [ 0.59446503  0.07414203]\n",
      "  [ 0.99174945  0.3686375 ]\n",
      "  [ 0.76034494  0.11401412]]\n",
      "\n",
      " [[ 0.97572558  0.30203548]\n",
      "  [ 0.7110977   0.70667494]\n",
      "  [ 0.38756768  0.15186012]\n",
      "  [ 0.52875512  0.80053579]]] [[[ 0.26155626  0.71535627]\n",
      "  [ 0.57831298  0.43970943]\n",
      "  [ 0.71967118  0.76341423]\n",
      "  [ 0.73034354  0.89090707]]\n",
      "\n",
      " [[ 0.37161755  0.24641424]\n",
      "  [ 0.22848607  0.17224166]\n",
      "  [ 0.6155286   0.94442969]\n",
      "  [ 0.81264073  0.21967369]]\n",
      "\n",
      " [[ 0.50912923  0.46278616]\n",
      "  [ 0.10507664  0.85546162]\n",
      "  [ 0.70621608  0.03773458]\n",
      "  [ 0.20273432  0.48190107]]\n",
      "\n",
      " [[ 0.09087594  0.53261055]\n",
      "  [ 0.36386561  0.30355158]\n",
      "  [ 0.83481702  0.18159759]\n",
      "  [ 0.28009549  0.63520221]]]\n",
      "[[[ 0.45056123  0.27328413  0.26155626  0.71535627]\n",
      "  [ 0.02211023  0.8360523   0.57831298  0.43970943]]\n",
      "\n",
      " [[ 0.49892813  0.17903786  0.37161755  0.24641424]\n",
      "  [ 0.38941192  0.27865497  0.22848607  0.17224166]]\n",
      "\n",
      " [[ 0.74401234  0.89655379  0.50912923  0.46278616]\n",
      "  [ 0.59446503  0.07414203  0.10507664  0.85546162]]\n",
      "\n",
      " [[ 0.97572558  0.30203548  0.09087594  0.53261055]\n",
      "  [ 0.7110977   0.70667494  0.36386561  0.30355158]]] [[[ 0.51344543  0.11859003  0.71967118  0.76341423]\n",
      "  [ 0.21691585  0.7806976   0.73034354  0.89090707]]\n",
      "\n",
      " [[ 0.4671229   0.7071495   0.6155286   0.94442969]\n",
      "  [ 0.62296216  0.37089692  0.81264073  0.21967369]]\n",
      "\n",
      " [[ 0.99174945  0.3686375   0.70621608  0.03773458]\n",
      "  [ 0.76034494  0.11401412  0.20273432  0.48190107]]\n",
      "\n",
      " [[ 0.38756768  0.15186012  0.83481702  0.18159759]\n",
      "  [ 0.52875512  0.80053579  0.28009549  0.63520221]]]\n",
      "[[[ 0.45056123  0.27328413  0.26155626  0.71535627]\n",
      "  [ 0.02211023  0.8360523   0.57831298  0.43970943]\n",
      "  [ 0.51344543  0.11859003  0.71967118  0.76341423]\n",
      "  [ 0.21691585  0.7806976   0.73034354  0.89090707]]\n",
      "\n",
      " [[ 0.49892813  0.17903786  0.37161755  0.24641424]\n",
      "  [ 0.38941192  0.27865497  0.22848607  0.17224166]\n",
      "  [ 0.4671229   0.7071495   0.6155286   0.94442969]\n",
      "  [ 0.62296216  0.37089692  0.81264073  0.21967369]]] [[[ 0.74401234  0.89655379  0.50912923  0.46278616]\n",
      "  [ 0.59446503  0.07414203  0.10507664  0.85546162]\n",
      "  [ 0.99174945  0.3686375   0.70621608  0.03773458]\n",
      "  [ 0.76034494  0.11401412  0.20273432  0.48190107]]\n",
      "\n",
      " [[ 0.97572558  0.30203548  0.09087594  0.53261055]\n",
      "  [ 0.7110977   0.70667494  0.36386561  0.30355158]\n",
      "  [ 0.38756768  0.15186012  0.83481702  0.18159759]\n",
      "  [ 0.52875512  0.80053579  0.28009549  0.63520221]]]\n"
     ]
    }
   ],
   "source": [
    "y, z = np.dsplit(x, 2) # depth\n",
    "print(y, z)\n",
    "y, z = np.hsplit(x, 2) # horizontal split\n",
    "print(y, z)\n",
    "y, z = np.vsplit(x, 2) # vertical split\n",
    "print(y, z)"
   ]
  },
  {
   "cell_type": "code",
   "execution_count": 15,
   "metadata": {
    "collapsed": false
   },
   "outputs": [
    {
     "name": "stdout",
     "output_type": "stream",
     "text": [
      "[[ 0  1  2  3]\n",
      " [ 4  5  6  7]\n",
      " [ 8  9 10 11]\n",
      " [12 13 14 15]]\n"
     ]
    }
   ],
   "source": [
    "x = np.arange(16).reshape(4, 4)\n",
    "print(x)"
   ]
  },
  {
   "cell_type": "code",
   "execution_count": 21,
   "metadata": {
    "collapsed": false
   },
   "outputs": [
    {
     "name": "stdout",
     "output_type": "stream",
     "text": [
      "[[ 3  2  1  0]\n",
      " [ 7  6  5  4]\n",
      " [11 10  9  8]\n",
      " [15 14 13 12]]\n"
     ]
    }
   ],
   "source": [
    "y = np.flip(x, axis = -1)\n",
    "print(y)"
   ]
  },
  {
   "cell_type": "code",
   "execution_count": 20,
   "metadata": {
    "collapsed": false
   },
   "outputs": [
    {
     "name": "stdout",
     "output_type": "stream",
     "text": [
      "[[12 13 14 15]\n",
      " [ 8  9 10 11]\n",
      " [ 4  5  6  7]\n",
      " [ 0  1  2  3]]\n"
     ]
    }
   ],
   "source": [
    "y = np.flip(x, axis = 0)\n",
    "print(y)"
   ]
  },
  {
   "cell_type": "code",
   "execution_count": 18,
   "metadata": {
    "collapsed": false
   },
   "outputs": [
    {
     "name": "stdout",
     "output_type": "stream",
     "text": [
      "[[ 3  2  1  0]\n",
      " [ 7  6  5  4]\n",
      " [11 10  9  8]\n",
      " [15 14 13 12]]\n"
     ]
    }
   ],
   "source": [
    "y = np.flip(x, axis = 1)\n",
    "print(y)"
   ]
  },
  {
   "cell_type": "code",
   "execution_count": 22,
   "metadata": {
    "collapsed": false
   },
   "outputs": [
    {
     "name": "stdout",
     "output_type": "stream",
     "text": [
      "[[ 0  1  2  3]\n",
      " [ 4  5  6  7]\n",
      " [ 8  9 10 11]\n",
      " [12 13 14 15]]\n",
      "[[ 3  2  1  0]\n",
      " [ 7  6  5  4]\n",
      " [11 10  9  8]\n",
      " [15 14 13 12]]\n"
     ]
    }
   ],
   "source": [
    "y = np.fliplr(x) # flip left to right\n",
    "print(x)\n",
    "print(y)"
   ]
  },
  {
   "cell_type": "code",
   "execution_count": 24,
   "metadata": {
    "collapsed": false
   },
   "outputs": [
    {
     "name": "stdout",
     "output_type": "stream",
     "text": [
      "[[ 0  1  2  3]\n",
      " [ 4  5  6  7]\n",
      " [ 8  9 10 11]\n",
      " [12 13 14 15]]\n",
      "[[12 13 14 15]\n",
      " [ 8  9 10 11]\n",
      " [ 4  5  6  7]\n",
      " [ 0  1  2  3]]\n"
     ]
    }
   ],
   "source": [
    "y = np.flipud(x) # flip up-down\n",
    "print(x)\n",
    "print(y)"
   ]
  },
  {
   "cell_type": "code",
   "execution_count": 25,
   "metadata": {
    "collapsed": false
   },
   "outputs": [
    {
     "name": "stdout",
     "output_type": "stream",
     "text": [
      "[[ 8  9 10 11]\n",
      " [12 13 14 15]\n",
      " [ 0  1  2  3]\n",
      " [ 4  5  6  7]]\n"
     ]
    }
   ],
   "source": [
    "y = np.roll(x, 8)\n",
    "print(y)"
   ]
  },
  {
   "cell_type": "code",
   "execution_count": 27,
   "metadata": {
    "collapsed": false
   },
   "outputs": [
    {
     "name": "stdout",
     "output_type": "stream",
     "text": [
      "[[ 0  1  2  3]\n",
      " [ 4  5  6  7]\n",
      " [ 8  9 10 11]\n",
      " [12 13 14 15]]\n",
      "[[ 3  7 11 15]\n",
      " [ 2  6 10 14]\n",
      " [ 1  5  9 13]\n",
      " [ 0  4  8 12]]\n"
     ]
    }
   ],
   "source": [
    "y = np.rot90(x) # rotated entire matrix anti-clockwise by 90 degrees\n",
    "print(x)\n",
    "print(y)"
   ]
  },
  {
   "cell_type": "markdown",
   "metadata": {},
   "source": [
    "# Bitwise operations"
   ]
  },
  {
   "cell_type": "code",
   "execution_count": 29,
   "metadata": {
    "collapsed": false
   },
   "outputs": [
    {
     "name": "stdout",
     "output_type": "stream",
     "text": [
      "[0 0 0 1]\n",
      "[0 1 1 1]\n",
      "[0 1 1 0]\n",
      "[255 254 255 254]\n"
     ]
    }
   ],
   "source": [
    "x = np.array([0, 1, 0, 1], np.uint8)\n",
    "y = np.array([0, 0, 1, 1], np.uint8)\n",
    "print(np.bitwise_and(x, y))\n",
    "print(np.bitwise_or(x, y))\n",
    "print(np.bitwise_xor(x, y))\n",
    "\n",
    "# Since unsigned integer of 8 bits is used,\n",
    "# binary representation of 0 = 00000000 and hence 255 = 11111111\n",
    "# binary representation of 1 = 00000001 and hence 254 = 11111110\n",
    "print(np.bitwise_not(x)) "
   ]
  },
  {
   "cell_type": "markdown",
   "metadata": {},
   "source": [
    "# Statistical functions"
   ]
  },
  {
   "cell_type": "code",
   "execution_count": 39,
   "metadata": {
    "collapsed": false
   },
   "outputs": [
    {
     "name": "stdout",
     "output_type": "stream",
     "text": [
      "[0 1 2 3 4 5 6 7 8 9]\n"
     ]
    }
   ],
   "source": [
    "a = np.arange(10)\n",
    "print(a)"
   ]
  },
  {
   "cell_type": "code",
   "execution_count": 36,
   "metadata": {
    "collapsed": false
   },
   "outputs": [
    {
     "name": "stdout",
     "output_type": "stream",
     "text": [
      "4.5\n",
      "4.5\n",
      "4.5\n",
      "2.87228132327\n",
      "8.25\n"
     ]
    }
   ],
   "source": [
    "print(np.median(a))\n",
    "print(np.average(a))\n",
    "print(np.mean(a))\n",
    "print(np.std(a))\n",
    "print(np.var(a))"
   ]
  },
  {
   "cell_type": "code",
   "execution_count": 37,
   "metadata": {
    "collapsed": false,
    "scrolled": true
   },
   "outputs": [
    {
     "name": "stdout",
     "output_type": "stream",
     "text": [
      "3.5\n",
      "3.9\n",
      "3.9\n",
      "3.3\n",
      "10.89\n"
     ]
    }
   ],
   "source": [
    "a = np.random.randint(low = 0, high = 10, size = 10)\n",
    "print(np.median(a))\n",
    "print(np.average(a))\n",
    "print(np.mean(a))\n",
    "print(np.std(a))\n",
    "print(np.var(a))"
   ]
  },
  {
   "cell_type": "code",
   "execution_count": 40,
   "metadata": {
    "collapsed": false
   },
   "outputs": [
    {
     "name": "stdout",
     "output_type": "stream",
     "text": [
      "(array([1, 1, 1, 1, 1, 1, 1, 1, 1, 1], dtype=int64), array([ 0. ,  0.9,  1.8,  2.7,  3.6,  4.5,  5.4,  6.3,  7.2,  8.1,  9. ]))\n"
     ]
    }
   ],
   "source": [
    "print(np.histogram(a))"
   ]
  },
  {
   "cell_type": "code",
   "execution_count": null,
   "metadata": {
    "collapsed": true
   },
   "outputs": [],
   "source": []
  },
  {
   "cell_type": "code",
   "execution_count": null,
   "metadata": {
    "collapsed": true
   },
   "outputs": [],
   "source": []
  }
 ],
 "metadata": {
  "anaconda-cloud": {},
  "kernelspec": {
   "display_name": "Python [conda env:Anaconda3]",
   "language": "python",
   "name": "conda-env-Anaconda3-py"
  },
  "language_info": {
   "codemirror_mode": {
    "name": "ipython",
    "version": 3
   },
   "file_extension": ".py",
   "mimetype": "text/x-python",
   "name": "python",
   "nbconvert_exporter": "python",
   "pygments_lexer": "ipython3",
   "version": "3.5.2"
  }
 },
 "nbformat": 4,
 "nbformat_minor": 1
}
